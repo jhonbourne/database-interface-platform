{
 "cells": [
  {
   "cell_type": "markdown",
   "id": "65fc7e6c-c331-43a2-8805-916709e4a1e0",
   "metadata": {},
   "source": [
    "# Test of MySqlHelper\n",
    "## Build up a connection and cursor"
   ]
  },
  {
   "cell_type": "code",
   "execution_count": 1,
   "id": "c5e79740-86c4-455d-9339-01fd1765a7de",
   "metadata": {
    "scrolled": true
   },
   "outputs": [
    {
     "name": "stdout",
     "output_type": "stream",
     "text": [
      "<mysqlhelper.MySqlHelper object at 0x0000029A0505AE40>\n"
     ]
    }
   ],
   "source": [
    "from mysqlhelper import MySqlHelper\n",
    "dial = MySqlHelper(user='root', password='11235HHe')\n",
    "print(dial)"
   ]
  },
  {
   "cell_type": "markdown",
   "id": "c8aa6542-aa65-444b-bdce-2f3782fca116",
   "metadata": {},
   "source": [
    "## Database manipulation"
   ]
  },
  {
   "cell_type": "code",
   "execution_count": 2,
   "id": "8639b483-b15f-4aca-86c1-3cac4378f019",
   "metadata": {},
   "outputs": [],
   "source": [
    "dial.create_database('people')\n",
    "dial.use_database('people')"
   ]
  },
  {
   "cell_type": "markdown",
   "id": "57d18494-e584-439c-8f02-ec6e7fc7376a",
   "metadata": {},
   "source": [
    "## Table creation and manipulation"
   ]
  },
  {
   "cell_type": "code",
   "execution_count": 3,
   "id": "e691cefb-5da2-4371-87a7-73fe45e364d8",
   "metadata": {},
   "outputs": [
    {
     "data": {
      "text/plain": [
       "()"
      ]
     },
     "execution_count": 3,
     "metadata": {},
     "output_type": "execute_result"
    }
   ],
   "source": [
    "dial.show_tables()"
   ]
  },
  {
   "cell_type": "code",
   "execution_count": 4,
   "id": "f5cd1751-4836-48eb-b33a-c58b10de4be0",
   "metadata": {},
   "outputs": [
    {
     "name": "stdout",
     "output_type": "stream",
     "text": [
      "Execute command: create table if not exists student (`id` int unsigned not null primary key auto_increment, `name` varchar(16) not null, `height` decimal(3,2)) default charset=utf8\n"
     ]
    },
    {
     "data": {
      "text/plain": [
       "(('id', 'int unsigned', 'NO', 'PRI', None, 'auto_increment'),\n",
       " ('name', 'varchar(16)', 'NO', '', None, ''),\n",
       " ('height', 'decimal(3,2)', 'YES', '', None, ''))"
      ]
     },
     "execution_count": 4,
     "metadata": {},
     "output_type": "execute_result"
    }
   ],
   "source": [
    "# Create a table\n",
    "dial.create_table('student',\n",
    "                  {'name':'varchar(16) not null',\n",
    "                   'height':'decimal(3,2)'},\n",
    "                  add_id_col=True)\n",
    "dial.table_info('student')"
   ]
  },
  {
   "cell_type": "code",
   "execution_count": 5,
   "id": "2f990db0-384d-4e94-9d5c-0b2affc83789",
   "metadata": {},
   "outputs": [
    {
     "data": {
      "text/plain": [
       "(('student',),)"
      ]
     },
     "execution_count": 5,
     "metadata": {},
     "output_type": "execute_result"
    }
   ],
   "source": [
    "dial.show_tables()"
   ]
  },
  {
   "cell_type": "code",
   "execution_count": 6,
   "id": "4805ac83-4b20-4a27-8c5d-ffcc84a63d6e",
   "metadata": {},
   "outputs": [
    {
     "data": {
      "text/plain": [
       "(('id', 'int unsigned', 'NO', 'PRI', None, 'auto_increment'),\n",
       " ('name', 'varchar(16)', 'NO', '', None, ''),\n",
       " ('height', 'decimal(3,2)', 'YES', '', None, ''),\n",
       " ('age', 'int', 'YES', '', None, ''))"
      ]
     },
     "execution_count": 6,
     "metadata": {},
     "output_type": "execute_result"
    }
   ],
   "source": [
    "# Insert new column\n",
    "dial.insert('student','age','int')\n",
    "dial.table_info('student')"
   ]
  },
  {
   "cell_type": "code",
   "execution_count": 7,
   "id": "547618b8-3235-4552-8772-ce302ccfb2ea",
   "metadata": {},
   "outputs": [
    {
     "data": {
      "text/plain": [
       "(('id', 'int unsigned', 'NO', 'PRI', None, 'auto_increment'),\n",
       " ('name', 'varchar(16)', 'NO', '', None, ''),\n",
       " ('height', 'decimal(3,2)', 'YES', '', None, ''))"
      ]
     },
     "execution_count": 7,
     "metadata": {},
     "output_type": "execute_result"
    }
   ],
   "source": [
    "# Delete a column\n",
    "dial.drop_column('student','age')\n",
    "dial.table_info('student')"
   ]
  },
  {
   "cell_type": "code",
   "execution_count": 8,
   "id": "4b735a46-a70e-4f70-a4c4-fa1592c50f72",
   "metadata": {},
   "outputs": [
    {
     "data": {
      "text/plain": [
       "(('id', 'int unsigned', 'NO', 'PRI', None, 'auto_increment'),\n",
       " ('name', 'varchar(16)', 'NO', '', None, ''),\n",
       " ('height', 'decimal(5,2)', 'YES', '', None, ''))"
      ]
     },
     "execution_count": 8,
     "metadata": {},
     "output_type": "execute_result"
    }
   ],
   "source": [
    "# Modify column setting\n",
    "dial.modify_column('student','height','decimal(5,2)')\n",
    "dial.table_info('student')"
   ]
  },
  {
   "cell_type": "markdown",
   "id": "9e627cbd-8c07-4c52-919c-44081e0c0cef",
   "metadata": {},
   "source": [
    "## Write and read of data"
   ]
  },
  {
   "cell_type": "code",
   "execution_count": 9,
   "id": "ac4965dd-7039-4839-97ee-aa4956c33c1a",
   "metadata": {},
   "outputs": [
    {
     "name": "stdout",
     "output_type": "stream",
     "text": [
      "Table will not be truncated according to the 'iloc_range' input.\n",
      "['id', 'name', 'height']\n",
      "(1, 'Jason', Decimal('172.00'))\n",
      "(2, 'Alice', Decimal('158.00'))\n",
      "(3, 'Bob', Decimal('175.10'))\n",
      "(4, 'Nick', Decimal('182.00'))\n",
      "(5, 'Mary', Decimal('173.50'))\n",
      "(6, 'Tina', Decimal('167.00'))\n"
     ]
    }
   ],
   "source": [
    "# Insert data to table\n",
    "dial.append('student',\n",
    "            column_names=['name','height'],\n",
    "            values=[\n",
    "                ('Jason',172),\n",
    "                ('Alice',158),\n",
    "                ('Bob',175.1),\n",
    "                ('Nick',182),\n",
    "                ('Mary',173.5),\n",
    "                ('Tina',167)\n",
    "            ])\n",
    "# Show content of table\n",
    "dat, col = dial.select('student')\n",
    "print(col, *dat, sep='\\n')"
   ]
  },
  {
   "cell_type": "code",
   "execution_count": 10,
   "id": "9477dff4-8f20-461a-acbf-8613eac643cd",
   "metadata": {},
   "outputs": [
    {
     "name": "stdout",
     "output_type": "stream",
     "text": [
      "Table will not be truncated according to the 'iloc_range' input.\n",
      "['id', 'name', 'height']\n",
      "(1, 'Jason', Decimal('172.00'))\n",
      "(2, 'Alice', Decimal('158.00'))\n",
      "(3, 'Bob', Decimal('175.10'))\n",
      "(4, 'Nick', Decimal('182.00'))\n",
      "(5, 'Mary', Decimal('173.50'))\n",
      "(6, 'Tina', Decimal('167.00'))\n",
      "(13, 'Louise', Decimal('188.00'))\n",
      "(15, 'Richard', Decimal('177.20'))\n",
      "(18, 'Kate', Decimal('164.00'))\n"
     ]
    }
   ],
   "source": [
    "# Insert data using dict\n",
    "dial.append('student',\n",
    "            col_dat_dict={\n",
    "                'name':['Louise','Richard','Kate'],\n",
    "                'height':[188,177.2,164],\n",
    "                'id':[13,15,18]\n",
    "            })\n",
    "# Show content of table\n",
    "dat, col = dial.select('student')\n",
    "print(col, *dat, sep='\\n')"
   ]
  },
  {
   "cell_type": "code",
   "execution_count": 11,
   "id": "148ce4c5-f4f0-4819-83af-b71c18367cdd",
   "metadata": {},
   "outputs": [
    {
     "name": "stdout",
     "output_type": "stream",
     "text": [
      "Table will not be truncated according to the 'iloc_range' input.\n",
      "['id', 'name', 'height']\n",
      "(1, 'Jason', Decimal('172.00'))\n",
      "(2, 'Alice', Decimal('158.00'))\n",
      "(3, 'Bob', Decimal('175.10'))\n",
      "(5, 'Mary', Decimal('173.50'))\n",
      "(6, 'Tina', Decimal('167.00'))\n",
      "(15, 'Richard', Decimal('177.20'))\n",
      "(18, 'Kate', Decimal('164.00'))\n"
     ]
    }
   ],
   "source": [
    "# Delete specific rows of data\n",
    "dial.drop_row('student', where='height >= %s', where_params=(180,))\n",
    "# Show content of table\n",
    "dat, col = dial.select('student')\n",
    "print(col, *dat, sep='\\n')"
   ]
  },
  {
   "cell_type": "code",
   "execution_count": 12,
   "id": "19cd2bc5-4716-4ef1-a025-60b10a02c338",
   "metadata": {},
   "outputs": [
    {
     "name": "stdout",
     "output_type": "stream",
     "text": [
      "Table will not be truncated according to the 'iloc_range' input.\n",
      "['id', 'name', 'height']\n",
      "(1, 'Jason', Decimal('172.00'))\n",
      "(2, 'Alice', Decimal('158.00'))\n",
      "(3, 'Bob', Decimal('175.10'))\n",
      "(5, 'Mary', Decimal('173.50'))\n",
      "(6, 'Tina', Decimal('167.00'))\n",
      "(15, 'Richard', Decimal('180.00'))\n",
      "(18, 'Kate', Decimal('164.00'))\n"
     ]
    }
   ],
   "source": [
    "# Modify sepecific data\n",
    "dial.modify_row_data('student',{'height':180},where='name = %s',where_params=('Richard',))\n",
    "# Show content of table\n",
    "dat, col = dial.select('student')\n",
    "print(col, *dat, sep='\\n')"
   ]
  },
  {
   "cell_type": "code",
   "execution_count": 13,
   "id": "16b51c0c-b743-4bc5-87f5-df6be0a8cd6e",
   "metadata": {},
   "outputs": [
    {
     "name": "stdout",
     "output_type": "stream",
     "text": [
      "Table will not be truncated according to the 'iloc_range' input.\n",
      "['name', 'height']\n",
      "('Alice', Decimal('158.00'))\n",
      "('Kate', Decimal('164.00'))\n",
      "('Tina', Decimal('167.00'))\n",
      "('Jason', Decimal('172.00'))\n"
     ]
    }
   ],
   "source": [
    "# Show specific part of a table\n",
    "dat, col = dial.select('student',('name','height'),\n",
    "                       where='height<%s',where_params=(173,),\n",
    "                       sort_col='height',asc_sort=True)\n",
    "print(col, *dat, sep='\\n')"
   ]
  },
  {
   "cell_type": "markdown",
   "id": "2400c887-31b0-4aa6-a267-586626cf73a9",
   "metadata": {},
   "source": [
    "## Delete table"
   ]
  },
  {
   "cell_type": "code",
   "execution_count": 14,
   "id": "e14dd038-35d4-4534-a259-57b57420234f",
   "metadata": {},
   "outputs": [
    {
     "data": {
      "text/plain": [
       "()"
      ]
     },
     "execution_count": 14,
     "metadata": {},
     "output_type": "execute_result"
    }
   ],
   "source": [
    "dial.delete_table('student')\n",
    "dial.show_tables()"
   ]
  },
  {
   "cell_type": "markdown",
   "id": "54979bdf-5c7b-40db-83e0-57d7edcc6dc7",
   "metadata": {},
   "source": [
    "# Close the cursor and connection"
   ]
  },
  {
   "cell_type": "code",
   "execution_count": 15,
   "id": "8abc5021-af78-426f-8a18-4566d25dc551",
   "metadata": {},
   "outputs": [],
   "source": [
    "dial.close()"
   ]
  },
  {
   "cell_type": "code",
   "execution_count": null,
   "id": "f6f7794a-018c-4aba-8eb3-76cec05abc60",
   "metadata": {},
   "outputs": [],
   "source": []
  }
 ],
 "metadata": {
  "kernelspec": {
   "display_name": "torch0",
   "language": "python",
   "name": "torch0"
  },
  "language_info": {
   "codemirror_mode": {
    "name": "ipython",
    "version": 3
   },
   "file_extension": ".py",
   "mimetype": "text/x-python",
   "name": "python",
   "nbconvert_exporter": "python",
   "pygments_lexer": "ipython3",
   "version": "3.13.7"
  }
 },
 "nbformat": 4,
 "nbformat_minor": 5
}
